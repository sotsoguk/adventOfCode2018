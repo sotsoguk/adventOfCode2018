{
 "cells": [
  {
   "cell_type": "code",
   "execution_count": 23,
   "metadata": {},
   "outputs": [
    {
     "name": "stdout",
     "output_type": "stream",
     "text": [
      "248\n",
      "28\n",
      "6944\n"
     ]
    }
   ],
   "source": [
    "from collections import Counter\n",
    "with open('input.txt') as f:\n",
    "    lines = f.readlines()\n",
    "\n",
    "lines = [x.strip() for x in lines]\n",
    "numOfDoubles = 0\n",
    "numOfTriples = 0\n",
    "\n",
    "for word in lines:\n",
    "    dbl = False\n",
    "    trpl = False\n",
    "    a = Counter(word)\n",
    "    for char, freq in a.items():\n",
    "        if freq == 2:\n",
    "            dbl = True\n",
    "        elif freq == 3:\n",
    "            trpl = True\n",
    "    \n",
    "    if dbl:\n",
    "        numOfDoubles = numOfDoubles + 1\n",
    "    if trpl:\n",
    "        numOfTriples = numOfTriples +1\n",
    "\n",
    "print(numOfDoubles)\n",
    "print(numOfTriples)\n",
    "print(numOfDoubles*numOfTriples)"
   ]
  },
  {
   "cell_type": "code",
   "execution_count": 19,
   "metadata": {},
   "outputs": [
    {
     "name": "stdout",
     "output_type": "stream",
     "text": [
      "c\n",
      "r\n",
      "u\n"
     ]
    }
   ],
   "source": [
    "\n",
    "    "
   ]
  },
  {
   "cell_type": "code",
   "execution_count": 20,
   "metadata": {},
   "outputs": [
    {
     "data": {
      "text/plain": [
       "Counter({'a': 1,\n",
       "         'b': 1,\n",
       "         'c': 2,\n",
       "         'd': 1,\n",
       "         'e': 1,\n",
       "         'f': 1,\n",
       "         'g': 1,\n",
       "         'h': 1,\n",
       "         'k': 1,\n",
       "         'l': 1,\n",
       "         'm': 1,\n",
       "         'n': 1,\n",
       "         'o': 1,\n",
       "         'p': 1,\n",
       "         'q': 1,\n",
       "         'r': 2,\n",
       "         't': 1,\n",
       "         'u': 2,\n",
       "         'v': 1,\n",
       "         'w': 1,\n",
       "         'x': 1,\n",
       "         'y': 1,\n",
       "         'z': 1})"
      ]
     },
     "execution_count": 20,
     "metadata": {},
     "output_type": "execute_result"
    }
   ],
   "source": [
    "a"
   ]
  },
  {
   "cell_type": "code",
   "execution_count": null,
   "metadata": {
    "collapsed": true
   },
   "outputs": [],
   "source": []
  }
 ],
 "metadata": {
  "kernelspec": {
   "display_name": "Python 3",
   "language": "python",
   "name": "python3"
  },
  "language_info": {
   "codemirror_mode": {
    "name": "ipython",
    "version": 3
   },
   "file_extension": ".py",
   "mimetype": "text/x-python",
   "name": "python",
   "nbconvert_exporter": "python",
   "pygments_lexer": "ipython3",
   "version": "3.6.1"
  }
 },
 "nbformat": 4,
 "nbformat_minor": 2
}
