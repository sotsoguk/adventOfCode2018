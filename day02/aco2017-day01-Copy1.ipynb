{
 "cells": [
  {
   "cell_type": "code",
   "execution_count": 24,
   "metadata": {},
   "outputs": [
    {
     "name": "stdout",
     "output_type": "stream",
     "text": [
      "1019\n",
      "1220\n"
     ]
    }
   ],
   "source": [
    "tn = \"6592822488931338589815525425236818285229555616392928433262436847386544514648645288129834834862363847542262953164877694234514375164927616649264122487182321437459646851966649732474925353281699895326824852555747127547527163197544539468632369858413232684269835288817735678173986264554586412678364433327621627496939956645283712453265255261565511586373551439198276373843771249563722914847255524452675842558622845416218195374459386785618255129831539984559644185369543662821311686162137672168266152494656448824719791398797359326412235723234585539515385352426579831251943911197862994974133738196775618715739412713224837531544346114877971977411275354168752719858889347588136787894798476123335894514342411742111135337286449968879251481449757294167363867119927811513529711239534914119292833111624483472466781475951494348516125474142532923858941279569675445694654355314925386833175795464912974865287564866767924677333599828829875283753669783176288899797691713766199641716546284841387455733132519649365113182432238477673375234793394595435816924453585513973119548841577126141962776649294322189695375451743747581241922657947182232454611837512564776273929815169367899818698892234618847815155578736875295629917247977658723868641411493551796998791839776335793682643551875947346347344695869874564432566956882395424267187552799458352121248147371938943799995158617871393289534789214852747976587432857675156884837634687257363975437535621197887877326295229195663235129213398178282549432599455965759999159247295857366485345759516622427833518837458236123723353817444545271644684925297477149298484753858863551357266259935298184325926848958828192317538375317946457985874965434486829387647425222952585293626473351211161684297351932771462665621764392833122236577353669215833721772482863775629244619639234636853267934895783891823877845198326665728659328729472456175285229681244974389248235457688922179237895954959228638193933854787917647154837695422429184757725387589969781672596568421191236374563718951738499591454571728641951699981615249635314789251239677393251756396\"\n",
    "#tn=\"1212\"\n",
    "stepS = len(tn)//2\n",
    "print(stepS)\n",
    "sum = 0\n",
    "\n",
    "ltn=list(map(int, str(tn)))\n",
    "for i,n in enumerate(ltn):\n",
    "    if n==ltn[i-stepS]:\n",
    "        sum = sum + n\n",
    "print(sum)"
   ]
  },
  {
   "cell_type": "code",
   "execution_count": 2,
   "metadata": {
    "collapsed": true
   },
   "outputs": [],
   "source": [
    "import numpy as np"
   ]
  },
  {
   "cell_type": "code",
   "execution_count": 3,
   "metadata": {},
   "outputs": [],
   "source": [
    "a = np.zeros((1000,1000))"
   ]
  },
  {
   "cell_type": "code",
   "execution_count": 45,
   "metadata": {},
   "outputs": [],
   "source": [
    "with open('../day03/input.txt') as f:\n",
    "    lines = f.readlines()"
   ]
  },
  {
   "cell_type": "code",
   "execution_count": 39,
   "metadata": {},
   "outputs": [
    {
     "data": {
      "text/plain": [
       "'1'"
      ]
     },
     "execution_count": 39,
     "metadata": {},
     "output_type": "execute_result"
    }
   ],
   "source": [
    "tt=lines[0].split()\n",
    "tt[0].strip('#')"
   ]
  },
  {
   "cell_type": "code",
   "execution_count": 27,
   "metadata": {},
   "outputs": [],
   "source": [
    "for line in lines:\n",
    "    tmp = line.split()\n",
    "    id = int(tmp[0].strip('#'))\n",
    "    x,y = map(int,(tmp[2].strip(\":\").split(\",\")))\n",
    "    xr,yr = map(int,tmp[3].split(\"x\"))\n",
    "    \n",
    "    #print(x,y,xr,yr)\n",
    "    #for i in range(x,x+xr):\n",
    "     #   for j in range(y,y+yr):\n",
    "      #      a[j][i] = a[j][i] +1"
   ]
  },
  {
   "cell_type": "code",
   "execution_count": 35,
   "metadata": {},
   "outputs": [
    {
     "data": {
      "text/plain": [
       "116920"
      ]
     },
     "execution_count": 35,
     "metadata": {},
     "output_type": "execute_result"
    }
   ],
   "source": [
    "np.size(np.where(a>=2)[0])"
   ]
  },
  {
   "cell_type": "code",
   "execution_count": 48,
   "metadata": {},
   "outputs": [
    {
     "name": "stdout",
     "output_type": "stream",
     "text": [
      "116920\n",
      "382\n"
     ]
    }
   ],
   "source": [
    "inp = []\n",
    "rect = np.zeros((1000,1000))\n",
    "for line in lines:\n",
    "    tmp = line.split()\n",
    "    idd = int(tmp[0].strip('#'))\n",
    "    x,y = map(int,(tmp[2].strip(\":\").split(\",\")))\n",
    "    xr,yr = map(int,tmp[3].split(\"x\"))\n",
    "    inp.append([idd,x,y,xr,yr])\n",
    "\n",
    "def part1():\n",
    "    for idd,x,y,dx,dy in inp:\n",
    "        rect[x:x+dx,y:y+dy] += 1\n",
    "    return np.sum(rect>1)\n",
    "\n",
    "def part2():\n",
    "    for idd,x,y,dx,dy in inp:\n",
    "        if np.all(rect[x:x+dx, y:y+dy]==1):\n",
    "            return idd\n",
    "\n",
    "print(part1())\n",
    "print(part2())"
   ]
  },
  {
   "cell_type": "code",
   "execution_count": 36,
   "metadata": {},
   "outputs": [
    {
     "data": {
      "text/plain": [
       "(array([  4,   4,   4, ..., 994, 994, 994]),\n",
       " array([972, 973, 974, ..., 134, 135, 136]))"
      ]
     },
     "execution_count": 36,
     "metadata": {},
     "output_type": "execute_result"
    }
   ],
   "source": [
    "np.where(a>=2)"
   ]
  },
  {
   "cell_type": "code",
   "execution_count": 30,
   "metadata": {},
   "outputs": [
    {
     "data": {
      "text/plain": [
       "['#1', '@', '1,3:', '4x4']"
      ]
     },
     "execution_count": 30,
     "metadata": {},
     "output_type": "execute_result"
    }
   ],
   "source": [
    "b=\"#1 @ 1,3: 4x4\".split()\n",
    "b"
   ]
  },
  {
   "cell_type": "code",
   "execution_count": 56,
   "metadata": {},
   "outputs": [
    {
     "name": "stdout",
     "output_type": "stream",
     "text": [
      "1 3\n",
      "4 4\n"
     ]
    }
   ],
   "source": [
    "x,y =map(int,(b[2].strip(\":\").split(\",\")))\n",
    "xr,yr = map(int,b[3].split(\"x\"))\n",
    "# x,y = tmp\n",
    "print(x,y)\n",
    "print(xr,yr)"
   ]
  },
  {
   "cell_type": "code",
   "execution_count": 73,
   "metadata": {
    "collapsed": true
   },
   "outputs": [],
   "source": [
    "for i in range(x,x+xr):\n",
    "    for j in range(y,y+yr):\n",
    "        a[j][i] = a[j][i] +1\n",
    "        "
   ]
  },
  {
   "cell_type": "code",
   "execution_count": 75,
   "metadata": {},
   "outputs": [
    {
     "name": "stdout",
     "output_type": "stream",
     "text": [
      "[[ 0.  0.  0.  0.  0.  0.  0.  0.  0.  0.]\n",
      " [ 0.  0.  0.  0.  0.  0.  0.  0.  0.  0.]\n",
      " [ 0.  0.  0.  0.  0.  0.  0.  0.  0.  0.]\n",
      " [ 0.  1.  1.  1.  1.  0.  0.  0.  0.  0.]\n",
      " [ 0.  1.  1.  1.  1.  0.  0.  0.  0.  0.]\n",
      " [ 0.  1.  1.  1.  1.  0.  0.  0.  0.  0.]\n",
      " [ 0.  1.  1.  1.  1.  0.  0.  0.  0.  0.]\n",
      " [ 0.  0.  0.  0.  0.  0.  0.  0.  0.  0.]\n",
      " [ 0.  0.  0.  0.  0.  0.  0.  0.  0.  0.]\n",
      " [ 0.  0.  0.  0.  0.  0.  0.  0.  0.  0.]]\n"
     ]
    }
   ],
   "source": [
    "\n",
    "print(a)\n"
   ]
  },
  {
   "cell_type": "code",
   "execution_count": null,
   "metadata": {
    "collapsed": true
   },
   "outputs": [],
   "source": []
  },
  {
   "cell_type": "code",
   "execution_count": null,
   "metadata": {
    "collapsed": true
   },
   "outputs": [],
   "source": []
  }
 ],
 "metadata": {
  "kernelspec": {
   "display_name": "Python 3",
   "language": "python",
   "name": "python3"
  },
  "language_info": {
   "codemirror_mode": {
    "name": "ipython",
    "version": 3
   },
   "file_extension": ".py",
   "mimetype": "text/x-python",
   "name": "python",
   "nbconvert_exporter": "python",
   "pygments_lexer": "ipython3",
   "version": "3.6.1"
  }
 },
 "nbformat": 4,
 "nbformat_minor": 2
}
