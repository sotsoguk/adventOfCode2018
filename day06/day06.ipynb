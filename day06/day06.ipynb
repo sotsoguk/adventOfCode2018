{
 "cells": [
  {
   "cell_type": "code",
   "execution_count": 214,
   "metadata": {},
   "outputs": [],
   "source": [
    "import numpy as np\n",
    "import itertools\n",
    "import re\n",
    "\n",
    "from operator import itemgetter\n",
    "\n",
    "with open('input.txt') as f:\n",
    "    lines = f.readlines()\n",
    "\n",
    "#lines = [x.strip() for x in lines]\n",
    "lines = [list(map(int,re.findall(r'\\d+',line))) for line in lines]"
   ]
  },
  {
   "cell_type": "code",
   "execution_count": 106,
   "metadata": {},
   "outputs": [
    {
     "data": {
      "text/plain": [
       "[[1, 1], [1, 6], [8, 3], [3, 4], [5, 5], [8, 9]]"
      ]
     },
     "execution_count": 106,
     "metadata": {},
     "output_type": "execute_result"
    }
   ],
   "source": [
    "lines"
   ]
  },
  {
   "cell_type": "code",
   "execution_count": 118,
   "metadata": {},
   "outputs": [
    {
     "name": "stdout",
     "output_type": "stream",
     "text": [
      "0 0\n",
      "0 1\n",
      "0 2\n",
      "0 3\n",
      "0 4\n",
      "0 5\n",
      "0 6\n",
      "0 7\n",
      "0 8\n",
      "0 9\n",
      "1 0\n",
      "1 1\n",
      "1 2\n",
      "1 3\n",
      "1 4\n",
      "1 5\n",
      "1 6\n",
      "1 7\n",
      "1 8\n",
      "1 9\n",
      "2 0\n",
      "2 1\n",
      "2 2\n",
      "2 3\n",
      "2 4\n",
      "2 5\n",
      "2 6\n",
      "2 7\n",
      "2 8\n",
      "2 9\n",
      "3 0\n",
      "3 1\n",
      "3 2\n",
      "3 3\n",
      "3 4\n",
      "3 5\n",
      "3 6\n",
      "3 7\n",
      "3 8\n",
      "3 9\n",
      "4 0\n",
      "4 1\n",
      "4 2\n",
      "4 3\n",
      "4 4\n",
      "4 5\n",
      "4 6\n",
      "4 7\n",
      "4 8\n",
      "4 9\n",
      "5 0\n",
      "5 1\n",
      "5 2\n",
      "5 3\n",
      "5 4\n",
      "5 5\n",
      "5 6\n",
      "5 7\n",
      "5 8\n",
      "5 9\n",
      "6 0\n",
      "6 1\n",
      "6 2\n",
      "6 3\n",
      "6 4\n",
      "6 5\n",
      "6 6\n",
      "6 7\n",
      "6 8\n",
      "6 9\n",
      "7 0\n",
      "7 1\n",
      "7 2\n",
      "7 3\n",
      "7 4\n",
      "7 5\n",
      "7 6\n",
      "7 7\n",
      "7 8\n",
      "7 9\n",
      "8 0\n",
      "8 1\n",
      "8 2\n",
      "8 3\n",
      "8 4\n",
      "8 5\n",
      "8 6\n",
      "8 7\n",
      "8 8\n",
      "8 9\n",
      "9 0\n",
      "9 1\n",
      "9 2\n",
      "9 3\n",
      "9 4\n",
      "9 5\n",
      "9 6\n",
      "9 7\n",
      "9 8\n",
      "9 9\n"
     ]
    }
   ],
   "source": [
    "grid2 = np.zeros((10,10))\n",
    "for ix,iy in np.ndindex(grid2.shape):\n",
    "    print(ix,iy)"
   ]
  },
  {
   "cell_type": "code",
   "execution_count": 24,
   "metadata": {},
   "outputs": [
    {
     "data": {
      "text/plain": [
       "[1, 1]"
      ]
     },
     "execution_count": 24,
     "metadata": {},
     "output_type": "execute_result"
    }
   ],
   "source": [
    "list(map(int,re.findall(r'\\d+',lines[0])))"
   ]
  },
  {
   "cell_type": "code",
   "execution_count": 215,
   "metadata": {},
   "outputs": [
    {
     "name": "stdout",
     "output_type": "stream",
     "text": [
      "359\n",
      "{1: (137, 282), 2: (229, 214), 3: (289, 292), 4: (249, 305), 5: (90, 289), 6: (259, 316), 7: (134, 103), 8: (96, 219), 9: (92, 308), 10: (269, 59), 11: (141, 132), 12: (71, 200), 13: (337, 350), 14: (40, 256), 15: (236, 105), 16: (314, 219), 17: (295, 332), 18: (114, 217), 19: (43, 202), 20: (160, 164), 21: (245, 303), 22: (339, 277), 23: (310, 316), 24: (164, 44), 25: (196, 335), 26: (228, 345), 27: (41, 49), 28: (84, 298), 29: (43, 51), 30: (158, 347), 31: (121, 51), 32: (176, 187), 33: (213, 120), 34: (174, 133), 35: (259, 263), 36: (210, 205), 37: (303, 233), 38: (265, 98), 39: (359, 332), 40: (186, 340), 41: (132, 99), 42: (174, 153), 43: (206, 142), 44: (341, 162), 45: (180, 166), 46: (152, 249), 47: (221, 118), 48: (95, 227), 49: (152, 186), 50: (72, 330)}\n",
      "[[27. 27. 27. ... 50. 50. 50.]\n",
      " [27. 27. 27. ... 50. 50. 50.]\n",
      " [27. 27. 27. ... 50. 50. 50.]\n",
      " ...\n",
      " [10. 10. 10. ... 39. 39. 39.]\n",
      " [10. 10. 10. ... 39. 39. 39.]\n",
      " [10. 10. 10. ... 39. 39. 39.]]\n",
      "1:2978\n",
      "2:3623\n",
      "3:1651\n",
      "4:448\n",
      "5:1701\n",
      "6 Infite\n",
      "7:1698\n",
      "8:910\n",
      "9:1271\n",
      "10 Infite\n",
      "11:2715\n",
      "12:2947\n",
      "13 Infite\n",
      "14 Infite\n",
      "15:1605\n",
      "16 Infite\n",
      "17 Infite\n",
      "18:1959\n",
      "19 Infite\n",
      "20:1141\n",
      "21:1726\n",
      "22 Infite\n",
      "23:1250\n",
      "24 Infite\n",
      "25 Infite\n",
      "26 Infite\n",
      "27 Infite\n",
      "28:770\n",
      "29:2377\n",
      "30 Infite\n",
      "31 Infite\n",
      "32:1293\n",
      "33:1659\n",
      "34:1465\n",
      "35:2883\n",
      "36:2115\n",
      "37 Infite\n",
      "38:4754\n",
      "39 Infite\n",
      "40 Infite\n",
      "41:2194\n",
      "42:445\n",
      "43:2115\n",
      "44 Infite\n",
      "45:638\n",
      "46:3116\n",
      "47:663\n",
      "48:1440\n",
      "49:1567\n",
      "50 Infite\n",
      "4754\n",
      "42344\n"
     ]
    }
   ],
   "source": [
    "points = {}\n",
    "for i, p in enumerate(lines,1):\n",
    "    points[i] = (p[0],p[1])\n",
    "    # grid[points[i]] = i\n",
    "maxDim = max(max(points.items(), key=itemgetter(1))[1][1],max(points.items(), key=itemgetter(1))[1][0])\n",
    "print(maxDim)\n",
    "grid = np.zeros((maxDim+3,maxDim+3))\n",
    "print(points)\n",
    "for k,v in points.items():\n",
    "\n",
    "    grid[v] = k\n",
    "#    print(p.value())\n",
    "\n",
    "numPoints = len(points)\n",
    "def closestPoint(p,points):\n",
    "    dists = np.zeros(numPoints)\n",
    "    for k,v in points.items():\n",
    "        dists[k-1] = abs(p[0]-v[0]) + abs(p[1]-v[1])\n",
    "    minDist = min(dists)\n",
    "    minPoint = np.argmin(dists)\n",
    "    #print(dists)\n",
    "    #print(str(minDist)+\"@\"+str(minPoint+1))\n",
    "    #print(np.where(dists==minDist)[0])\n",
    "    if (len(np.where(dists==minDist)[0])==1):\n",
    "        return int(minPoint + 1)\n",
    "    else:\n",
    "        return int(-1)\n",
    "\n",
    "for ix,iy in np.ndindex(grid.shape):\n",
    "    grid[(ix,iy)] = closestPoint((ix,iy),points)\n",
    "\n",
    "print(grid)\n",
    "    \n",
    "areas=[]\n",
    "for k,v in points.items():\n",
    "    subGrid = np.where(grid==k)\n",
    "\n",
    "    if np.any(subGrid[0]==0)  or np.any(subGrid[1] == 0) or np.any(subGrid[0]==maxDim+2)  or np.any(subGrid[1] == maxDim+2):\n",
    "        print(str(k)+\" Infite\")\n",
    "    else:\n",
    "        print(str(k)+\":\"+ str(len(np.where(grid == k)[0])))\n",
    "        areas.append(len(np.where(grid == k)[0]))\n",
    "    \n",
    "print(max(areas))\n",
    "grid = np.zeros((maxDim+3,maxDim+3))\n",
    "\n",
    "for ix,iy in np.ndindex(grid.shape):\n",
    "    for k,v in points.items():\n",
    "        grid[(ix,iy)] += abs(ix-v[0]) + abs(iy-v[1])\n",
    "                           \n",
    "print(len(np.where(grid<10000)[0]))"
   ]
  },
  {
   "cell_type": "code",
   "execution_count": 200,
   "metadata": {},
   "outputs": [
    {
     "name": "stdout",
     "output_type": "stream",
     "text": [
      "INFINITY\n"
     ]
    }
   ],
   "source": [
    "dd=np.array([3.,2.,3.])\n",
    "subGrid = np.where(grid==6)\n",
    "    #print(\"INF\")\n",
    "if np.any(subGrid[0]==0)  or np.any(subGrid[1] == 0) or np.any(subGrid[0]==maxDim+2)  or np.any(subGrid[1] == maxDim+2):\n",
    "    print(\"INFINITY\")"
   ]
  },
  {
   "cell_type": "code",
   "execution_count": 174,
   "metadata": {},
   "outputs": [
    {
     "name": "stdout",
     "output_type": "stream",
     "text": [
      "2\n"
     ]
    }
   ],
   "source": [
    "print(len(np.where(dd == 3)[0]))"
   ]
  },
  {
   "cell_type": "code",
   "execution_count": 133,
   "metadata": {},
   "outputs": [
    {
     "name": "stdout",
     "output_type": "stream",
     "text": [
      "Einziugartig\n"
     ]
    }
   ],
   "source": [
    "if 1.0 in np.unique(dd):\n",
    "    print(\"Einziugartig\")\n",
    "#print(type(maxX))\n",
    "#print(tuple(map(lambda x, y: x + y, maxX, (1,1))))\n",
    "#np.zeros(maxX)"
   ]
  },
  {
   "cell_type": "code",
   "execution_count": 82,
   "metadata": {},
   "outputs": [
    {
     "data": {
      "text/plain": [
       "9"
      ]
     },
     "execution_count": 82,
     "metadata": {},
     "output_type": "execute_result"
    }
   ],
   "source": [
    "max(points.items(), key=itemgetter(1))[1][1]"
   ]
  },
  {
   "cell_type": "code",
   "execution_count": 36,
   "metadata": {},
   "outputs": [],
   "source": [
    "\n",
    "grid[(0,0)] = 99"
   ]
  },
  {
   "cell_type": "code",
   "execution_count": 39,
   "metadata": {},
   "outputs": [
    {
     "data": {
      "text/plain": [
       "(5, 5)"
      ]
     },
     "execution_count": 39,
     "metadata": {},
     "output_type": "execute_result"
    }
   ],
   "source": [
    "points[4]"
   ]
  },
  {
   "cell_type": "code",
   "execution_count": 51,
   "metadata": {},
   "outputs": [
    {
     "data": {
      "text/plain": [
       "9"
      ]
     },
     "execution_count": 51,
     "metadata": {},
     "output_type": "execute_result"
    }
   ],
   "source": [
    "max(points[6])"
   ]
  },
  {
   "cell_type": "code",
   "execution_count": 113,
   "metadata": {},
   "outputs": [],
   "source": [
    "a = np.array([1,2,3,4,1])"
   ]
  },
  {
   "cell_type": "code",
   "execution_count": 114,
   "metadata": {},
   "outputs": [
    {
     "data": {
      "text/plain": [
       "0"
      ]
     },
     "execution_count": 114,
     "metadata": {},
     "output_type": "execute_result"
    }
   ],
   "source": [
    "np.argmin(a)"
   ]
  },
  {
   "cell_type": "code",
   "execution_count": null,
   "metadata": {},
   "outputs": [],
   "source": []
  }
 ],
 "metadata": {
  "kernelspec": {
   "display_name": "Python 3",
   "language": "python",
   "name": "python3"
  },
  "language_info": {
   "codemirror_mode": {
    "name": "ipython",
    "version": 3
   },
   "file_extension": ".py",
   "mimetype": "text/x-python",
   "name": "python",
   "nbconvert_exporter": "python",
   "pygments_lexer": "ipython3",
   "version": "3.6.6"
  }
 },
 "nbformat": 4,
 "nbformat_minor": 2
}
