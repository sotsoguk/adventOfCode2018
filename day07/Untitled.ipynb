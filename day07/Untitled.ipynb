{
 "cells": [
  {
   "cell_type": "code",
   "execution_count": 1,
   "metadata": {
    "collapsed": true
   },
   "outputs": [],
   "source": [
    "import networkx as nx"
   ]
  },
  {
   "cell_type": "code",
   "execution_count": 2,
   "metadata": {
    "collapsed": true
   },
   "outputs": [],
   "source": [
    "input =[]\n",
    "with open('input.txt') as f:\n",
    "    input = f.readlines()"
   ]
  },
  {
   "cell_type": "code",
   "execution_count": 3,
   "metadata": {
    "collapsed": true
   },
   "outputs": [],
   "source": [
    " G = nx.DiGraph([(s[1],s[7]) for s in map(str.split, input)])"
   ]
  },
  {
   "cell_type": "code",
   "execution_count": 6,
   "metadata": {},
   "outputs": [
    {
     "name": "stdout",
     "output_type": "stream",
     "text": [
      "[('G', 'T'), ('T', 'I'), ('T', 'A'), ('T', 'V'), ('T', 'M'), ('T', 'E'), ('L', 'V'), ('L', 'P'), ('L', 'S'), ('L', 'D'), ('V', 'Z'), ('V', 'O'), ('V', 'W'), ('V', 'E'), ('V', 'R'), ('V', 'S'), ('D', 'P'), ('D', 'H'), ('D', 'O'), ('D', 'C'), ('D', 'F'), ('P', 'O'), ('P', 'I'), ('P', 'B'), ('P', 'A'), ('P', 'H'), ('J', 'K'), ('J', 'V'), ('J', 'I'), ('K', 'W'), ('K', 'Y'), ('K', 'O'), ('K', 'T'), ('K', 'X'), ('K', 'Q'), ('N', 'B'), ('N', 'V'), ('N', 'W'), ('N', 'Q'), ('N', 'O'), ('N', 'X'), ('N', 'H'), ('N', 'A'), ('N', 'S'), ('N', 'Z'), ('W', 'B'), ('W', 'C'), ('I', 'Z'), ('I', 'U'), ('I', 'C'), ('F', 'E'), ('E', 'Z'), ('E', 'W'), ('E', 'O'), ('E', 'C'), ('E', 'S'), ('O', 'W'), ('O', 'B'), ('O', 'S'), ('O', 'Z'), ('O', 'A'), ('X', 'I'), ('X', 'V'), ('X', 'R'), ('X', 'W'), ('X', 'C'), ('M', 'S'), ('M', 'Q'), ('M', 'E'), ('M', 'V'), ('S', 'C'), ('S', 'W'), ('S', 'A'), ('S', 'B'), ('Y', 'O'), ('Y', 'H'), ('Y', 'V'), ('Y', 'W'), ('Y', 'U'), ('Z', 'S'), ('Z', 'W'), ('Z', 'A'), ('Z', 'C'), ('Q', 'Z'), ('Q', 'S'), ('Q', 'E'), ('H', 'C'), ('H', 'R'), ('H', 'Z'), ('C', 'B'), ('R', 'Z'), ('R', 'W'), ('R', 'E'), ('R', 'O'), ('R', 'C'), ('U', 'S'), ('U', 'W'), ('U', 'C'), ('U', 'E'), ('A', 'B'), ('A', 'C')]\n"
     ]
    }
   ],
   "source": [
    "print(G.edges())"
   ]
  },
  {
   "cell_type": "code",
   "execution_count": 8,
   "metadata": {},
   "outputs": [
    {
     "name": "stdout",
     "output_type": "stream",
     "text": [
      "0\n",
      "2\n",
      "0\n",
      "7\n",
      "1\n",
      "2\n",
      "0\n",
      "1\n",
      "0\n",
      "7\n",
      "11\n",
      "4\n",
      "1\n",
      "7\n",
      "8\n",
      "2\n",
      "1\n",
      "9\n",
      "1\n",
      "8\n",
      "3\n",
      "4\n",
      "11\n",
      "3\n",
      "2\n",
      "6\n"
     ]
    }
   ],
   "source": [
    "for a in G:\n",
    "    print(G.in_degree(a))"
   ]
  },
  {
   "cell_type": "code",
   "execution_count": 9,
   "metadata": {
    "collapsed": true
   },
   "outputs": [],
   "source": [
    "at = [t for t in G if G.in_degree(t)==0]"
   ]
  },
  {
   "cell_type": "code",
   "execution_count": 10,
   "metadata": {},
   "outputs": [
    {
     "data": {
      "text/plain": [
       "['G', 'L', 'J', 'N']"
      ]
     },
     "execution_count": 10,
     "metadata": {},
     "output_type": "execute_result"
    }
   ],
   "source": [
    "at"
   ]
  },
  {
   "cell_type": "code",
   "execution_count": 11,
   "metadata": {},
   "outputs": [
    {
     "data": {
      "text/plain": [
       "'G'"
      ]
     },
     "execution_count": 11,
     "metadata": {},
     "output_type": "execute_result"
    }
   ],
   "source": [
    "min(at)"
   ]
  },
  {
   "cell_type": "code",
   "execution_count": 13,
   "metadata": {},
   "outputs": [
    {
     "data": {
      "text/plain": [
       "71"
      ]
     },
     "execution_count": 13,
     "metadata": {},
     "output_type": "execute_result"
    }
   ],
   "source": [
    "ord(min(at))"
   ]
  },
  {
   "cell_type": "code",
   "execution_count": 14,
   "metadata": {},
   "outputs": [
    {
     "data": {
      "text/plain": [
       "65"
      ]
     },
     "execution_count": 14,
     "metadata": {},
     "output_type": "execute_result"
    }
   ],
   "source": [
    "ord(a)"
   ]
  },
  {
   "cell_type": "code",
   "execution_count": null,
   "metadata": {
    "collapsed": true
   },
   "outputs": [],
   "source": []
  }
 ],
 "metadata": {
  "kernelspec": {
   "display_name": "Python 3",
   "language": "python",
   "name": "python3"
  },
  "language_info": {
   "codemirror_mode": {
    "name": "ipython",
    "version": 3
   },
   "file_extension": ".py",
   "mimetype": "text/x-python",
   "name": "python",
   "nbconvert_exporter": "python",
   "pygments_lexer": "ipython3",
   "version": "3.6.1"
  }
 },
 "nbformat": 4,
 "nbformat_minor": 2
}
