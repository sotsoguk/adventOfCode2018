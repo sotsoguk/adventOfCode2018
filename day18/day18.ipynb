{
 "cells": [
  {
   "cell_type": "code",
   "execution_count": 328,
   "metadata": {},
   "outputs": [],
   "source": [
    "# . open\n",
    "# | tree\n",
    "# # lumberyard\n",
    "from collections import Counter\n",
    "\n",
    "class Board:\n",
    "    def __init__(self, size =(50,50), filename = 'input.txt', step = 0):\n",
    "        self.size = size\n",
    "        self.filename = filename\n",
    "        self.step = step\n",
    "        self.elements=[]\n",
    "        self.loadBoard()\n",
    "        self.cnt = Counter()\n",
    "    \n",
    "    def loadBoard(self):\n",
    "        f=open(self.filename)\n",
    "        self.elements = [l.strip() for l in f.readlines()]\n",
    "        self.size = (len(self.elements),len(self.elements[0]))\n",
    "        \n",
    "    def printBoard(self):\n",
    "        if self.elements == None:\n",
    "            return\n",
    "        for l in self.elements:\n",
    "            print(l)\n",
    "    \n",
    "    def at(self,y,x):\n",
    "        if y<0 or y>self.size[0]-1 or x<0 or x>self.size[1]-1:\n",
    "            return -1\n",
    "        else:\n",
    "            return self.elements[y][x]\n",
    "        \n",
    "    def count(self):\n",
    "        self.cnt.clear()\n",
    "        for l in self.elements:\n",
    "            for c in l:\n",
    "                self.cnt[c] += 1\n",
    "                \n",
    "    def doStep(self):\n",
    "        newBoard = [[None]*self.size[1] for i in range(self.size[0])]\n",
    "        for i in range(self.size[0]):\n",
    "            for j in range(self.size[1]):\n",
    "                ncnt = Counter()\n",
    "                for dx in range(-1,2):\n",
    "                    for dy in range(-1,2):\n",
    "                        if dx == 0 and dy == 0:\n",
    "                            continue\n",
    "                        ncnt[self.at(i+dx,j+dy)]+=1\n",
    "                #print(i,j,ncnt)       \n",
    "                if self.at(i,j) == '.':\n",
    "                    newBoard[i][j] = '|' if ncnt['|'] >=3 else '.'\n",
    "                elif self.at(i,j) == '|':\n",
    "                    newBoard[i][j] = '#' if ncnt['#'] >= 3 else '|'\n",
    "                else:\n",
    "                    newBoard[i][j] = '#' if (ncnt['#']>=1 and ncnt['|']>=1) else '.'\n",
    "        self.step += 1\n",
    "        self.elements = newBoard.copy()\n",
    "    def __str__(self):\n",
    "        if self.elements == []:\n",
    "            return \"Empyt Board\"\n",
    "        prtstr = ''\n",
    "        for l in self.elements:\n",
    "            prtstr += l\n",
    "            prtstr += '\\n'\n",
    "        return prtstr    \n",
    "   \n"
   ]
  },
  {
   "cell_type": "code",
   "execution_count": 264,
   "metadata": {},
   "outputs": [],
   "source": [
    "def part1():\n",
    "    b = Board(filename='input.txt')\n",
    "    for i in range(10):\n",
    "        \n",
    "        b.doStep()\n",
    "    b.count()\n",
    "    print(b.cnt)\n",
    "\n",
    "    print(\"Part1:\" +str(b.cnt['#']*b.cnt['|']))"
   ]
  },
  {
   "cell_type": "code",
   "execution_count": 266,
   "metadata": {},
   "outputs": [],
   "source": [
    "def part2():\n",
    "    b = Board(filename='input.txt')\n",
    "    numSteps = 1000\n",
    "    for i in range(numSteps):\n",
    "        b.doStep()\n",
    "        b.count()\n",
    "        #print(i,b.cnt['#'],b.cnt['|'],b.cnt['#']*b.cnt['|'])"
   ]
  },
  {
   "cell_type": "code",
   "execution_count": 317,
   "metadata": {},
   "outputs": [],
   "source": [
    "def animate(frames = 100, addFrame = False):\n",
    "    b = Board(filename='input.txt')\n",
    "    \n",
    "    for i in range(frames):\n",
    "        #b.doStep()\n",
    "        fn = 'img/aoc' + format(i,'05d') + '.png'\n",
    "        if addFrame:\n",
    "            text = format(i,'05d')\n",
    "            imageOut(fn,b,text)\n",
    "        else:\n",
    "            imageOut(fn,b)\n",
    "        b.doStep()\n",
    "        "
   ]
  },
  {
   "cell_type": "code",
   "execution_count": 351,
   "metadata": {},
   "outputs": [],
   "source": [
    "from PIL import Image, ImageDraw, ImageFont, ImageFilter\n",
    "\n",
    "def imageOut(filename, board, text = None):\n",
    "    colorNone = (0,0,0)\n",
    "    colorTree = (41, 145, 32)\n",
    "    colorLumber= (182, 112, 47)\n",
    "    scaleFactor = 5\n",
    "    if text:\n",
    "        textArea = scaleFactor * 6\n",
    "        fnt = ImageFont.truetype('/Library/Fonts/Arial.ttf',3*scaleFactor)\n",
    "    else:\n",
    "        textArea = 0\n",
    "    imSize = (board.size[1]*scaleFactor, board.size[0] * scaleFactor + textArea)\n",
    "    img = Image.new('RGB', imSize, \"black\")\n",
    "    \n",
    "    pixels = img.load()\n",
    "     \n",
    "    #for i in range(img.size[0]):\n",
    "     #   for j in range(img.size[1]):\n",
    "      #      if board.at(j,i) == '.':\n",
    "       #         pixels[i,j] = colorNone\n",
    "        #    elif board.at(j,i) == '|':\n",
    "         #       pixels[i,j] = colorTree\n",
    "          #  else:\n",
    "           #     pixels[i,j] = colorLumber\n",
    "     \n",
    "    for i in range(board.size[1]):\n",
    "        for j in range(board.size[0]):\n",
    "            if board.at(j,i) == '.':\n",
    "                for dx in range(scaleFactor):\n",
    "                    for dy in range(scaleFactor):\n",
    "                        pixels[scaleFactor*i+dx,j*scaleFactor+dy] = colorNone\n",
    "            elif board.at(j,i) == '|':\n",
    "                for dx in range(scaleFactor):\n",
    "                    for dy in range(scaleFactor):\n",
    "                        pixels[scaleFactor*i+dx,j*scaleFactor+dy] = colorTree\n",
    "            else:\n",
    "                for dx in range(scaleFactor):\n",
    "                    for dy in range(scaleFactor):\n",
    "                        pixels[scaleFactor*i+dx,j*scaleFactor+dy] = colorLumber\n",
    "    img = img.filter(ImageFilter.GaussianBlur(3))\n",
    "    d = ImageDraw.Draw(img)\n",
    "    d.text((10,imSize[1]-scaleFactor*6+5), text,font=fnt,fill=(255,2555,255))\n",
    "    img.save(filename)"
   ]
  },
  {
   "cell_type": "code",
   "execution_count": 353,
   "metadata": {},
   "outputs": [],
   "source": [
    "animate(frames=100,addFrame = True)"
   ]
  },
  {
   "cell_type": "code",
   "execution_count": 279,
   "metadata": {},
   "outputs": [
    {
     "name": "stdout",
     "output_type": "stream",
     "text": [
      "1000000027\n"
     ]
    }
   ],
   "source": [
    "i = 635\n",
    "while i<1000000000:\n",
    "    i += 28\n",
    "\n",
    "print(i)"
   ]
  },
  {
   "cell_type": "markdown",
   "metadata": {},
   "source": [
    "## 'aoc'+format(10,'05d')"
   ]
  },
  {
   "cell_type": "code",
   "execution_count": 278,
   "metadata": {},
   "outputs": [
    {
     "data": {
      "text/plain": [
       "20"
      ]
     },
     "execution_count": 278,
     "metadata": {},
     "output_type": "execute_result"
    }
   ],
   "source": [
    "1000000000 % 28"
   ]
  },
  {
   "cell_type": "code",
   "execution_count": 273,
   "metadata": {},
   "outputs": [
    {
     "data": {
      "text/plain": [
       "272"
      ]
     },
     "execution_count": 273,
     "metadata": {},
     "output_type": "execute_result"
    }
   ],
   "source": [
    "250 +22"
   ]
  },
  {
   "cell_type": "code",
   "execution_count": 275,
   "metadata": {},
   "outputs": [
    {
     "data": {
      "text/plain": [
       "971"
      ]
     },
     "execution_count": 275,
     "metadata": {},
     "output_type": "execute_result"
    }
   ],
   "source": [
    "999-28"
   ]
  },
  {
   "cell_type": "code",
   "execution_count": 276,
   "metadata": {},
   "outputs": [
    {
     "data": {
      "text/plain": [
       "943"
      ]
     },
     "execution_count": 276,
     "metadata": {},
     "output_type": "execute_result"
    }
   ],
   "source": [
    "971-28"
   ]
  },
  {
   "cell_type": "code",
   "execution_count": null,
   "metadata": {},
   "outputs": [],
   "source": []
  }
 ],
 "metadata": {
  "kernelspec": {
   "display_name": "Python 3",
   "language": "python",
   "name": "python3"
  },
  "language_info": {
   "codemirror_mode": {
    "name": "ipython",
    "version": 3
   },
   "file_extension": ".py",
   "mimetype": "text/x-python",
   "name": "python",
   "nbconvert_exporter": "python",
   "pygments_lexer": "ipython3",
   "version": "3.6.6"
  }
 },
 "nbformat": 4,
 "nbformat_minor": 2
}
