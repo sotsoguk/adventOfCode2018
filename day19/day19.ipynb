{
 "cells": [
  {
   "cell_type": "code",
   "execution_count": null,
   "metadata": {},
   "outputs": [],
   "source": [
    "f = open('input.txt')\n",
    "inp = f.readlines()"
   ]
  },
  {
   "cell_type": "code",
   "execution_count": null,
   "metadata": {},
   "outputs": [],
   "source": [
    "ip = int(inp[0].split()[1])"
   ]
  },
  {
   "cell_type": "code",
   "execution_count": null,
   "metadata": {},
   "outputs": [],
   "source": [
    "#program = inp[1:]\n",
    "program = [p.strip() for p in inp[1:]]"
   ]
  },
  {
   "cell_type": "code",
   "execution_count": 113,
   "metadata": {},
   "outputs": [],
   "source": [
    "def addr(registers,a,b,c):\n",
    "    result = registers[::]\n",
    "    result[c] = result[a] + result[b]\n",
    "    return result\n",
    "    #registers[c] = registers[a] + registers[b]\n",
    "\n",
    "def addi(registers,a,b,c):\n",
    "    result = registers[::]\n",
    "    result[c] = result[a] + b\n",
    "    return result\n",
    "\n",
    "def mulr(registers,a,b,c):\n",
    "    result = registers[::]\n",
    "    result[c] = result[a] * result[b]\n",
    "    return result\n",
    "\n",
    "def muli(registers,a,b,c):\n",
    "    result = registers[::]\n",
    "    result[c] = result[a] * b\n",
    "    return result\n",
    "\n",
    "def banr(registers,a,b,c):\n",
    "    result = registers[::]\n",
    "    result[c] = result[a] & result[b]\n",
    "    return result\n",
    "\n",
    "def bani(registers,a,b,c):\n",
    "    result = registers[::]\n",
    "    result[c] = result[a] & b\n",
    "    return result\n",
    "\n",
    "def borr(registers,a,b,c):\n",
    "    result = registers[::]\n",
    "    result[c] = result[a] | result[b]\n",
    "    return result\n",
    "\n",
    "def bori(registers,a,b,c):\n",
    "    result = registers[::]\n",
    "    result[c] = result[a] | b\n",
    "    return result\n",
    "\n",
    "def setr(registers,a,b,c):\n",
    "    result = registers[::]\n",
    "    result[c] = result[a]\n",
    "    return result\n",
    "\n",
    "def seti(registers,a,b,c):\n",
    "    result = registers[::]\n",
    "    result[c] = a\n",
    "    return result\n",
    "\n",
    "def gtir(registers,a,b,c):\n",
    "    result = registers[::]\n",
    "    result[c] = bool(a > result[b])\n",
    "    return result\n",
    "\n",
    "def gtri(registers,a,b,c):\n",
    "    result = registers[::]\n",
    "    result[c] = bool(result[a] > b)\n",
    "    return result\n",
    "\n",
    "def gtrr(registers,a,b,c):\n",
    "    result = registers[::]\n",
    "    result[c] = bool(result[a] > result[b])\n",
    "    return result\n",
    "\n",
    "def eqir(registers,a,b,c):\n",
    "    result = registers[::]\n",
    "    result[c] = bool(a == result[b])\n",
    "    return result\n",
    "\n",
    "def eqri(registers,a,b,c):\n",
    "    result = registers[::]\n",
    "    result[c] = bool(result[a] == b)\n",
    "    return result\n",
    "\n",
    "def eqrr(registers,a,b,c):\n",
    "    result = registers[::]\n",
    "    result[c] = bool(result[a] == result[b])\n",
    "    return result\n",
    "\n",
    "OPERATIONS = [\n",
    "    addr, addi,\n",
    "    mulr, muli,\n",
    "    banr, bani,\n",
    "    borr, bori,\n",
    "    setr, seti,\n",
    "    gtir, gtri, gtrr,\n",
    "    eqir, eqri, eqrr\n",
    "]\n",
    "\n",
    "ops = {\n",
    "        'addi':addi, 'addr':addr,\n",
    "        'muli':muli, 'mulr':mulr,\n",
    "        'banr':banr, 'bani':bani,\n",
    "        'borr':borr, 'bori':bori,\n",
    "        'setr':setr, 'seti':seti,\n",
    "        'gtir':gtir, 'gtri':gtri, 'gtrr':gtrr,\n",
    "        'eqir':eqir, 'eqri':eqri, 'eqrr':eqrr}\n",
    "\n"
   ]
  },
  {
   "cell_type": "code",
   "execution_count": 76,
   "metadata": {},
   "outputs": [
    {
     "name": "stdout",
     "output_type": "stream",
     "text": [
      "addi\n",
      "3 16 3\n"
     ]
    }
   ],
   "source": [
    "codeLine = program[0].split()\n",
    "a,b,c = map(int,program[0].split()[1:])\n",
    "print(op)\n",
    "print(a,b,c)"
   ]
  },
  {
   "cell_type": "code",
   "execution_count": 112,
   "metadata": {},
   "outputs": [
    {
     "name": "stdout",
     "output_type": "stream",
     "text": [
      "0 0 [1, 0, 0, 0, 0, 0]\t['addi', '3', '16', '3']\t16 [1, 0, 0, 16, 0, 0]\n",
      "1 17 [1, 0, 0, 17, 0, 0]\t['addi', '5', '2', '5']\t17 [1, 0, 0, 17, 0, 2]\n",
      "2 18 [1, 0, 0, 18, 0, 2]\t['mulr', '5', '5', '5']\t18 [1, 0, 0, 18, 0, 4]\n",
      "3 19 [1, 0, 0, 19, 0, 4]\t['mulr', '3', '5', '5']\t19 [1, 0, 0, 19, 0, 76]\n",
      "4 20 [1, 0, 0, 20, 0, 76]\t['muli', '5', '11', '5']\t20 [1, 0, 0, 20, 0, 836]\n",
      "5 21 [1, 0, 0, 21, 0, 836]\t['addi', '1', '6', '1']\t21 [1, 6, 0, 21, 0, 836]\n",
      "6 22 [1, 6, 0, 22, 0, 836]\t['mulr', '1', '3', '1']\t22 [1, 132, 0, 22, 0, 836]\n",
      "7 23 [1, 132, 0, 23, 0, 836]\t['addi', '1', '13', '1']\t23 [1, 145, 0, 23, 0, 836]\n",
      "8 24 [1, 145, 0, 24, 0, 836]\t['addr', '5', '1', '5']\t24 [1, 145, 0, 24, 0, 981]\n",
      "9 25 [1, 145, 0, 25, 0, 981]\t['addr', '3', '0', '3']\t26 [1, 145, 0, 26, 0, 981]\n",
      "10 27 [1, 145, 0, 27, 0, 981]\t['setr', '3', '1', '1']\t27 [1, 27, 0, 27, 0, 981]\n",
      "11 28 [1, 27, 0, 28, 0, 981]\t['mulr', '1', '3', '1']\t28 [1, 756, 0, 28, 0, 981]\n",
      "12 29 [1, 756, 0, 29, 0, 981]\t['addr', '3', '1', '1']\t29 [1, 785, 0, 29, 0, 981]\n",
      "13 30 [1, 785, 0, 30, 0, 981]\t['mulr', '3', '1', '1']\t30 [1, 23550, 0, 30, 0, 981]\n",
      "14 31 [1, 23550, 0, 31, 0, 981]\t['muli', '1', '14', '1']\t31 [1, 329700, 0, 31, 0, 981]\n",
      "15 32 [1, 329700, 0, 32, 0, 981]\t['mulr', '1', '3', '1']\t32 [1, 10550400, 0, 32, 0, 981]\n",
      "16 33 [1, 10550400, 0, 33, 0, 981]\t['addr', '5', '1', '5']\t33 [1, 10550400, 0, 33, 0, 10551381]\n",
      "17 34 [1, 10550400, 0, 34, 0, 10551381]\t['seti', '0', '0', '0']\t34 [0, 10550400, 0, 34, 0, 10551381]\n",
      "18 35 [0, 10550400, 0, 35, 0, 10551381]\t['seti', '0', '3', '3']\t0 [0, 10550400, 0, 0, 0, 10551381]\n",
      "19 1 [0, 10550400, 0, 1, 0, 10551381]\t['seti', '1', '0', '4']\t1 [0, 10550400, 0, 1, 1, 10551381]\n",
      "20 2 [0, 10550400, 0, 2, 1, 10551381]\t['seti', '1', '7', '2']\t2 [0, 10550400, 1, 2, 1, 10551381]\n",
      "21 3 [0, 10550400, 1, 3, 1, 10551381]\t['mulr', '4', '2', '1']\t3 [0, 1, 1, 3, 1, 10551381]\n",
      "22 4 [0, 1, 1, 4, 1, 10551381]\t['eqrr', '1', '5', '1']\t4 [0, False, 1, 4, 1, 10551381]\n",
      "23 5 [0, False, 1, 5, 1, 10551381]\t['addr', '1', '3', '3']\t5 [0, False, 1, 5, 1, 10551381]\n",
      "24 6 [0, False, 1, 6, 1, 10551381]\t['addi', '3', '1', '3']\t7 [0, False, 1, 7, 1, 10551381]\n",
      "25 8 [0, False, 1, 8, 1, 10551381]\t['addi', '2', '1', '2']\t8 [0, False, 2, 8, 1, 10551381]\n",
      "26 9 [0, False, 2, 9, 1, 10551381]\t['gtrr', '2', '5', '1']\t9 [0, False, 2, 9, 1, 10551381]\n",
      "27 10 [0, False, 2, 10, 1, 10551381]\t['addr', '3', '1', '3']\t10 [0, False, 2, 10, 1, 10551381]\n",
      "28 11 [0, False, 2, 11, 1, 10551381]\t['seti', '2', '6', '3']\t2 [0, False, 2, 2, 1, 10551381]\n",
      "29 3 [0, False, 2, 3, 1, 10551381]\t['mulr', '4', '2', '1']\t3 [0, 2, 2, 3, 1, 10551381]\n",
      "30 4 [0, 2, 2, 4, 1, 10551381]\t['eqrr', '1', '5', '1']\t4 [0, False, 2, 4, 1, 10551381]\n",
      "31 5 [0, False, 2, 5, 1, 10551381]\t['addr', '1', '3', '3']\t5 [0, False, 2, 5, 1, 10551381]\n",
      "32 6 [0, False, 2, 6, 1, 10551381]\t['addi', '3', '1', '3']\t7 [0, False, 2, 7, 1, 10551381]\n",
      "33 8 [0, False, 2, 8, 1, 10551381]\t['addi', '2', '1', '2']\t8 [0, False, 3, 8, 1, 10551381]\n",
      "34 9 [0, False, 3, 9, 1, 10551381]\t['gtrr', '2', '5', '1']\t9 [0, False, 3, 9, 1, 10551381]\n",
      "35 10 [0, False, 3, 10, 1, 10551381]\t['addr', '3', '1', '3']\t10 [0, False, 3, 10, 1, 10551381]\n",
      "36 11 [0, False, 3, 11, 1, 10551381]\t['seti', '2', '6', '3']\t2 [0, False, 3, 2, 1, 10551381]\n",
      "37 3 [0, False, 3, 3, 1, 10551381]\t['mulr', '4', '2', '1']\t3 [0, 3, 3, 3, 1, 10551381]\n",
      "38 4 [0, 3, 3, 4, 1, 10551381]\t['eqrr', '1', '5', '1']\t4 [0, False, 3, 4, 1, 10551381]\n",
      "39 5 [0, False, 3, 5, 1, 10551381]\t['addr', '1', '3', '3']\t5 [0, False, 3, 5, 1, 10551381]\n",
      "40 6 [0, False, 3, 6, 1, 10551381]\t['addi', '3', '1', '3']\t7 [0, False, 3, 7, 1, 10551381]\n",
      "41 8 [0, False, 3, 8, 1, 10551381]\t['addi', '2', '1', '2']\t8 [0, False, 4, 8, 1, 10551381]\n",
      "42 9 [0, False, 4, 9, 1, 10551381]\t['gtrr', '2', '5', '1']\t9 [0, False, 4, 9, 1, 10551381]\n",
      "43 10 [0, False, 4, 10, 1, 10551381]\t['addr', '3', '1', '3']\t10 [0, False, 4, 10, 1, 10551381]\n",
      "44 11 [0, False, 4, 11, 1, 10551381]\t['seti', '2', '6', '3']\t2 [0, False, 4, 2, 1, 10551381]\n",
      "45 3 [0, False, 4, 3, 1, 10551381]\t['mulr', '4', '2', '1']\t3 [0, 4, 4, 3, 1, 10551381]\n",
      "46 4 [0, 4, 4, 4, 1, 10551381]\t['eqrr', '1', '5', '1']\t4 [0, False, 4, 4, 1, 10551381]\n",
      "47 5 [0, False, 4, 5, 1, 10551381]\t['addr', '1', '3', '3']\t5 [0, False, 4, 5, 1, 10551381]\n",
      "48 6 [0, False, 4, 6, 1, 10551381]\t['addi', '3', '1', '3']\t7 [0, False, 4, 7, 1, 10551381]\n",
      "49 8 [0, False, 4, 8, 1, 10551381]\t['addi', '2', '1', '2']\t8 [0, False, 5, 8, 1, 10551381]\n",
      "50 9 [0, False, 5, 9, 1, 10551381]\t['gtrr', '2', '5', '1']\t9 [0, False, 5, 9, 1, 10551381]\n",
      "51 10 [0, False, 5, 10, 1, 10551381]\t['addr', '3', '1', '3']\t10 [0, False, 5, 10, 1, 10551381]\n",
      "52 11 [0, False, 5, 11, 1, 10551381]\t['seti', '2', '6', '3']\t2 [0, False, 5, 2, 1, 10551381]\n",
      "53 3 [0, False, 5, 3, 1, 10551381]\t['mulr', '4', '2', '1']\t3 [0, 5, 5, 3, 1, 10551381]\n",
      "54 4 [0, 5, 5, 4, 1, 10551381]\t['eqrr', '1', '5', '1']\t4 [0, False, 5, 4, 1, 10551381]\n",
      "55 5 [0, False, 5, 5, 1, 10551381]\t['addr', '1', '3', '3']\t5 [0, False, 5, 5, 1, 10551381]\n",
      "56 6 [0, False, 5, 6, 1, 10551381]\t['addi', '3', '1', '3']\t7 [0, False, 5, 7, 1, 10551381]\n",
      "57 8 [0, False, 5, 8, 1, 10551381]\t['addi', '2', '1', '2']\t8 [0, False, 6, 8, 1, 10551381]\n",
      "58 9 [0, False, 6, 9, 1, 10551381]\t['gtrr', '2', '5', '1']\t9 [0, False, 6, 9, 1, 10551381]\n",
      "59 10 [0, False, 6, 10, 1, 10551381]\t['addr', '3', '1', '3']\t10 [0, False, 6, 10, 1, 10551381]\n",
      "60 11 [0, False, 6, 11, 1, 10551381]\t['seti', '2', '6', '3']\t2 [0, False, 6, 2, 1, 10551381]\n",
      "61 3 [0, False, 6, 3, 1, 10551381]\t['mulr', '4', '2', '1']\t3 [0, 6, 6, 3, 1, 10551381]\n",
      "62 4 [0, 6, 6, 4, 1, 10551381]\t['eqrr', '1', '5', '1']\t4 [0, False, 6, 4, 1, 10551381]\n",
      "63 5 [0, False, 6, 5, 1, 10551381]\t['addr', '1', '3', '3']\t5 [0, False, 6, 5, 1, 10551381]\n",
      "64 6 [0, False, 6, 6, 1, 10551381]\t['addi', '3', '1', '3']\t7 [0, False, 6, 7, 1, 10551381]\n",
      "65 8 [0, False, 6, 8, 1, 10551381]\t['addi', '2', '1', '2']\t8 [0, False, 7, 8, 1, 10551381]\n",
      "66 9 [0, False, 7, 9, 1, 10551381]\t['gtrr', '2', '5', '1']\t9 [0, False, 7, 9, 1, 10551381]\n",
      "67 10 [0, False, 7, 10, 1, 10551381]\t['addr', '3', '1', '3']\t10 [0, False, 7, 10, 1, 10551381]\n",
      "68 11 [0, False, 7, 11, 1, 10551381]\t['seti', '2', '6', '3']\t2 [0, False, 7, 2, 1, 10551381]\n",
      "69 3 [0, False, 7, 3, 1, 10551381]\t['mulr', '4', '2', '1']\t3 [0, 7, 7, 3, 1, 10551381]\n",
      "70 4 [0, 7, 7, 4, 1, 10551381]\t['eqrr', '1', '5', '1']\t4 [0, False, 7, 4, 1, 10551381]\n",
      "71 5 [0, False, 7, 5, 1, 10551381]\t['addr', '1', '3', '3']\t5 [0, False, 7, 5, 1, 10551381]\n",
      "72 6 [0, False, 7, 6, 1, 10551381]\t['addi', '3', '1', '3']\t7 [0, False, 7, 7, 1, 10551381]\n",
      "73 8 [0, False, 7, 8, 1, 10551381]\t['addi', '2', '1', '2']\t8 [0, False, 8, 8, 1, 10551381]\n",
      "74 9 [0, False, 8, 9, 1, 10551381]\t['gtrr', '2', '5', '1']\t9 [0, False, 8, 9, 1, 10551381]\n",
      "75 10 [0, False, 8, 10, 1, 10551381]\t['addr', '3', '1', '3']\t10 [0, False, 8, 10, 1, 10551381]\n",
      "76 11 [0, False, 8, 11, 1, 10551381]\t['seti', '2', '6', '3']\t2 [0, False, 8, 2, 1, 10551381]\n",
      "77 3 [0, False, 8, 3, 1, 10551381]\t['mulr', '4', '2', '1']\t3 [0, 8, 8, 3, 1, 10551381]\n",
      "78 4 [0, 8, 8, 4, 1, 10551381]\t['eqrr', '1', '5', '1']\t4 [0, False, 8, 4, 1, 10551381]\n",
      "79 5 [0, False, 8, 5, 1, 10551381]\t['addr', '1', '3', '3']\t5 [0, False, 8, 5, 1, 10551381]\n",
      "80 6 [0, False, 8, 6, 1, 10551381]\t['addi', '3', '1', '3']\t7 [0, False, 8, 7, 1, 10551381]\n",
      "81 8 [0, False, 8, 8, 1, 10551381]\t['addi', '2', '1', '2']\t8 [0, False, 9, 8, 1, 10551381]\n",
      "82 9 [0, False, 9, 9, 1, 10551381]\t['gtrr', '2', '5', '1']\t9 [0, False, 9, 9, 1, 10551381]\n",
      "83 10 [0, False, 9, 10, 1, 10551381]\t['addr', '3', '1', '3']\t10 [0, False, 9, 10, 1, 10551381]\n",
      "84 11 [0, False, 9, 11, 1, 10551381]\t['seti', '2', '6', '3']\t2 [0, False, 9, 2, 1, 10551381]\n",
      "85 3 [0, False, 9, 3, 1, 10551381]\t['mulr', '4', '2', '1']\t3 [0, 9, 9, 3, 1, 10551381]\n",
      "86 4 [0, 9, 9, 4, 1, 10551381]\t['eqrr', '1', '5', '1']\t4 [0, False, 9, 4, 1, 10551381]\n",
      "87 5 [0, False, 9, 5, 1, 10551381]\t['addr', '1', '3', '3']\t5 [0, False, 9, 5, 1, 10551381]\n",
      "88 6 [0, False, 9, 6, 1, 10551381]\t['addi', '3', '1', '3']\t7 [0, False, 9, 7, 1, 10551381]\n",
      "89 8 [0, False, 9, 8, 1, 10551381]\t['addi', '2', '1', '2']\t8 [0, False, 10, 8, 1, 10551381]\n",
      "90 9 [0, False, 10, 9, 1, 10551381]\t['gtrr', '2', '5', '1']\t9 [0, False, 10, 9, 1, 10551381]\n",
      "91 10 [0, False, 10, 10, 1, 10551381]\t['addr', '3', '1', '3']\t10 [0, False, 10, 10, 1, 10551381]\n",
      "92 11 [0, False, 10, 11, 1, 10551381]\t['seti', '2', '6', '3']\t2 [0, False, 10, 2, 1, 10551381]\n",
      "93 3 [0, False, 10, 3, 1, 10551381]\t['mulr', '4', '2', '1']\t3 [0, 10, 10, 3, 1, 10551381]\n",
      "94 4 [0, 10, 10, 4, 1, 10551381]\t['eqrr', '1', '5', '1']\t4 [0, False, 10, 4, 1, 10551381]\n",
      "95 5 [0, False, 10, 5, 1, 10551381]\t['addr', '1', '3', '3']\t5 [0, False, 10, 5, 1, 10551381]\n",
      "96 6 [0, False, 10, 6, 1, 10551381]\t['addi', '3', '1', '3']\t7 [0, False, 10, 7, 1, 10551381]\n",
      "97 8 [0, False, 10, 8, 1, 10551381]\t['addi', '2', '1', '2']\t8 [0, False, 11, 8, 1, 10551381]\n",
      "98 9 [0, False, 11, 9, 1, 10551381]\t['gtrr', '2', '5', '1']\t9 [0, False, 11, 9, 1, 10551381]\n",
      "99 10 [0, False, 11, 10, 1, 10551381]\t['addr', '3', '1', '3']\t10 [0, False, 11, 10, 1, 10551381]\n"
     ]
    }
   ],
   "source": [
    "ip = 3\n",
    "execs = 0\n",
    "registers =[1,0,0,0,0,0]\n",
    "while registers[ip]>=0 and registers[ip]<len(program) and execs < 100:\n",
    "    print(execs,registers[ip],registers,end='\\t')\n",
    "    code = program[registers[ip]].split()\n",
    "    print(code,end='\\t')\n",
    "    registers = ops[code[0]](registers,*map(int,code[1:]) )\n",
    "    print(registers[ip],registers)\n",
    "    registers[ip] += 1\n",
    "    execs += 1"
   ]
  },
  {
   "cell_type": "code",
   "execution_count": 109,
   "metadata": {},
   "outputs": [
    {
     "data": {
      "text/plain": [
       "[1430, True, 982, 257, 982, 981]"
      ]
     },
     "execution_count": 109,
     "metadata": {},
     "output_type": "execute_result"
    }
   ],
   "source": [
    "registers"
   ]
  },
  {
   "cell_type": "code",
   "execution_count": 95,
   "metadata": {},
   "outputs": [
    {
     "name": "stdout",
     "output_type": "stream",
     "text": [
      "[0, 1, 2, 67, 4]\n"
     ]
    }
   ],
   "source": [
    "print(registers)"
   ]
  },
  {
   "cell_type": "code",
   "execution_count": 69,
   "metadata": {},
   "outputs": [
    {
     "data": {
      "text/plain": [
       "str"
      ]
     },
     "execution_count": 69,
     "metadata": {},
     "output_type": "execute_result"
    }
   ],
   "source": [
    "type(op)"
   ]
  },
  {
   "cell_type": "code",
   "execution_count": 114,
   "metadata": {},
   "outputs": [],
   "source": [
    "facs = '1, 3, 71, 213, 49537, 148611, 3517127, 10551381'"
   ]
  },
  {
   "cell_type": "code",
   "execution_count": 116,
   "metadata": {},
   "outputs": [
    {
     "data": {
      "text/plain": [
       "14266944"
      ]
     },
     "execution_count": 116,
     "metadata": {},
     "output_type": "execute_result"
    }
   ],
   "source": [
    "sum(list(map(int,facs.split(','))))"
   ]
  },
  {
   "cell_type": "code",
   "execution_count": null,
   "metadata": {},
   "outputs": [],
   "source": []
  }
 ],
 "metadata": {
  "kernelspec": {
   "display_name": "Python 3",
   "language": "python",
   "name": "python3"
  },
  "language_info": {
   "codemirror_mode": {
    "name": "ipython",
    "version": 3
   },
   "file_extension": ".py",
   "mimetype": "text/x-python",
   "name": "python",
   "nbconvert_exporter": "python",
   "pygments_lexer": "ipython3",
   "version": "3.6.6"
  }
 },
 "nbformat": 4,
 "nbformat_minor": 2
}
